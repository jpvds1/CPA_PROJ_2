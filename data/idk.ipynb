{
 "cells": [
  {
   "cell_type": "code",
   "execution_count": 30,
   "id": "9f9bc65a",
   "metadata": {},
   "outputs": [],
   "source": [
    "import pandas as pd\n",
    "import numpy as np"
   ]
  },
  {
   "cell_type": "code",
   "execution_count": 31,
   "id": "3320da62",
   "metadata": {},
   "outputs": [
    {
     "name": "stdout",
     "output_type": "stream",
     "text": [
      "Best results saved to best_results.csv\n"
     ]
    }
   ],
   "source": [
    "# Load your CSV\n",
    "df = pd.read_csv(\"results.txt\")  # Update path if needed\n",
    "\n",
    "df = df.drop(columns=['NOTHING'], axis=1)  # Drop the index column if it exists\n",
    "\n",
    "# Keep the best (fastest time) row for each (type, size, cores, blockSize)\n",
    "best_df = df.loc[df.groupby(['type', 'size', 'cores', 'blockSize'])['time'].idxmin()]\n",
    "\n",
    "# Sort for readability\n",
    "best_df = best_df.sort_values(by=['type', 'cores', 'blockSize', 'size'])\n",
    "\n",
    "# Save to a new file\n",
    "best_df.to_csv(\"best_results.csv\", index=False)\n",
    "\n",
    "print(\"Best results saved to best_results.csv\")\n"
   ]
  },
  {
   "cell_type": "code",
   "execution_count": 32,
   "id": "ee1f490a",
   "metadata": {},
   "outputs": [
    {
     "name": "stdout",
     "output_type": "stream",
     "text": [
      "     size      seq_time\n",
      "405  1024    113.591071\n",
      "406  2048    920.639072\n",
      "407  3072   3113.594459\n",
      "408  4096   7472.435349\n",
      "409  5120  14639.751450\n",
      "410  6144  25542.947952\n",
      "22   7168  41376.450127\n",
      "412  8192  62302.208832\n"
     ]
    }
   ],
   "source": [
    "sequential_df = df[df[\"type\"] == \"Sequential\"]\n",
    "best_seq = sequential_df.loc[sequential_df.groupby(\"size\")[\"time\"].idxmin()][[\"size\", \"time\"]]\n",
    "best_seq = best_seq.rename(columns={\"time\": \"seq_time\"})\n",
    "\n",
    "\n",
    "print(best_seq)"
   ]
  },
  {
   "cell_type": "code",
   "execution_count": 33,
   "id": "a094b8a2",
   "metadata": {},
   "outputs": [
    {
     "name": "stdout",
     "output_type": "stream",
     "text": [
      "       type  size  cores  blockSize          time      energy       L1_DCM  \\\n",
      "0  Parallel  1024      1         64    117.054505    2.037050    187721621   \n",
      "1  Parallel  2048      1         64    994.937664   15.554372   1516485456   \n",
      "2  Parallel  3072      1         64   3377.861558   50.610663   5092297630   \n",
      "3  Parallel  4096      1         64   8093.431016  124.158359  12162142311   \n",
      "4  Parallel  5120      1         64  15685.688488  239.448234  23556327797   \n",
      "\n",
      "      L2_DCM        FP_INS       TOT_INS      seq_time   speedup  \n",
      "0    3308548    2147483650    1431421562    113.591071  0.970412  \n",
      "1   26570333   17179869186   11451153833    920.639072  0.925323  \n",
      "2   90361219   57982058498   38647616841   3113.594459  0.921765  \n",
      "3  215039632  137438953474   91609145830   7472.435349  0.923272  \n",
      "4  403196416  268435456002  178924094930  14639.751450  0.933319  \n"
     ]
    }
   ],
   "source": [
    "# Merge best results with best sequential times\n",
    "best_df = best_df.merge(best_seq, on=\"size\", how=\"left\")\n",
    "\n",
    "# Calculate speedup\n",
    "best_df[\"speedup\"] = best_df[\"seq_time\"] / best_df[\"time\"]\n",
    "\n",
    "# Sort and save\n",
    "best_df = best_df.sort_values(by=['type', 'cores', 'blockSize', 'size'])\n",
    "\n",
    "print(best_df.head())\n",
    "\n",
    "best_df.to_csv(\"best_results.csv\", index=False)"
   ]
  },
  {
   "cell_type": "code",
   "execution_count": 34,
   "id": "e328ca86",
   "metadata": {},
   "outputs": [],
   "source": [
    "# Time in seconds\n",
    "best_df[\"time_s\"] = best_df[\"time\"] / 1000.0\n",
    "\n",
    "# EDP: Energy * Time\n",
    "best_df[\"edp\"] = best_df[\"energy\"] * best_df[\"time_s\"]\n",
    "\n",
    "# Power Efficiency (W): Energy / Time\n",
    "best_df[\"power_efficiency\"] = best_df[\"time_s\"] / best_df[\"energy\"] \n",
    "\n",
    "# Instantaneous Power (W): Energy / Time in seconds\n",
    "best_df[\"instantaneous_power\"] = best_df[\"energy\"] / best_df[\"time_s\"]\n",
    "\n",
    "# GFLOPS\n",
    "best_df[\"gflops\"] = (2 * best_df[\"size\"] ** 3) / (best_df[\"time_s\"] * 1e9)\n",
    "best_df[\"joules_per_gflop\"] = best_df[\"energy\"] / best_df[\"gflops\"]\n",
    "\n",
    "# cache miss rate\n",
    "best_df[\"cache_miss_rate\"] = best_df[\"L1_DCM\"] / best_df[\"TOT_INS\"]\n",
    "\n",
    "# Save final results with EDP and power efficiency\n",
    "best_df.to_csv(\"best_results.csv\", index=False)"
   ]
  }
 ],
 "metadata": {
  "kernelspec": {
   "display_name": "Python 3",
   "language": "python",
   "name": "python3"
  },
  "language_info": {
   "codemirror_mode": {
    "name": "ipython",
    "version": 3
   },
   "file_extension": ".py",
   "mimetype": "text/x-python",
   "name": "python",
   "nbconvert_exporter": "python",
   "pygments_lexer": "ipython3",
   "version": "3.12.3"
  }
 },
 "nbformat": 4,
 "nbformat_minor": 5
}
